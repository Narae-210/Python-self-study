{
  "nbformat": 4,
  "nbformat_minor": 0,
  "metadata": {
    "colab": {
      "name": "Week3_tutorial.ipynb",
      "provenance": [],
      "authorship_tag": "ABX9TyOXCTkc7KbiHtAmednP3xRF",
      "include_colab_link": true
    },
    "kernelspec": {
      "name": "python3",
      "display_name": "Python 3"
    },
    "language_info": {
      "name": "python"
    }
  },
  "cells": [
    {
      "cell_type": "markdown",
      "metadata": {
        "id": "view-in-github",
        "colab_type": "text"
      },
      "source": [
        "<a href=\"https://colab.research.google.com/github/Narae-210/Python-self-study/blob/main/Week3_tutorial.ipynb\" target=\"_parent\"><img src=\"https://colab.research.google.com/assets/colab-badge.svg\" alt=\"Open In Colab\"/></a>"
      ]
    },
    {
      "cell_type": "code",
      "metadata": {
        "colab": {
          "base_uri": "https://localhost:8080/"
        },
        "id": "poF7gWQnHmVz",
        "outputId": "52b6cfd2-1f56-45e1-f24c-5f96829f6737"
      },
      "source": [
        "x = 25\n",
        "y = 20\n",
        "\n",
        "if x > y:\n",
        "    x -= y\n",
        "if x <= y:\n",
        "    y -= x\n",
        "    \n",
        "print('Your two numbers are now {} and {}'.format(x, y))\n",
        "\n",
        "#요기는 if가 두번 다 적용된다!"
      ],
      "execution_count": 3,
      "outputs": [
        {
          "output_type": "stream",
          "text": [
            "Your two numbers are now 5 and 15\n"
          ],
          "name": "stdout"
        }
      ]
    },
    {
      "cell_type": "code",
      "metadata": {
        "colab": {
          "base_uri": "https://localhost:8080/"
        },
        "id": "3qHi2mFyHpNN",
        "outputId": "bf05453c-0f0b-42d6-8f96-cb87ece72f24"
      },
      "source": [
        "x = 25\n",
        "y = 20\n",
        "\n",
        "if x > y:\n",
        "    x -= y\n",
        "else:\n",
        "    y -= x\n",
        "    \n",
        "print('Your two numbers are now {} and {}'.format(x, y))\n",
        "\n",
        "#요기는 if 적용되고 끝! else는 적용 X"
      ],
      "execution_count": 4,
      "outputs": [
        {
          "output_type": "stream",
          "text": [
            "Your two numbers are now 5 and 20\n"
          ],
          "name": "stdout"
        }
      ]
    },
    {
      "cell_type": "code",
      "metadata": {
        "colab": {
          "base_uri": "https://localhost:8080/"
        },
        "id": "xfpqxjmpILNO",
        "outputId": "c00cf155-1928-4909-9d40-f5c91f73c647"
      },
      "source": [
        "t_num = 1  # the current triangular number to print out\n",
        "step = 2   # the quantity added to `t_num`, to get the next triangular number\n",
        "print('Hello!')\n",
        "\n",
        "while t_num <= 15:\n",
        "    if t_num % 2 == 0: #짝수\n",
        "        print(t_num)\n",
        "    if t_num % 5 == 0: #5의배수\n",
        "        print(t_num)\n",
        "\n",
        "    t_num += step\n",
        "    step += 1"
      ],
      "execution_count": 6,
      "outputs": [
        {
          "output_type": "stream",
          "text": [
            "Hello!\n",
            "6\n",
            "10\n",
            "10\n",
            "15\n"
          ],
          "name": "stdout"
        }
      ]
    }
  ]
}