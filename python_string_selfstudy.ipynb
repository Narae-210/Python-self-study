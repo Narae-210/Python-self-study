{
  "nbformat": 4,
  "nbformat_minor": 0,
  "metadata": {
    "colab": {
      "name": "python_string_selfstudy.ipynb",
      "provenance": [],
      "authorship_tag": "ABX9TyPcgvPHdYRUU6FwFdfMg/Ae",
      "include_colab_link": true
    },
    "kernelspec": {
      "name": "python3",
      "display_name": "Python 3"
    },
    "language_info": {
      "name": "python"
    }
  },
  "cells": [
    {
      "cell_type": "markdown",
      "metadata": {
        "id": "view-in-github",
        "colab_type": "text"
      },
      "source": [
        "<a href=\"https://colab.research.google.com/github/Narae-210/Python-self-study/blob/main/python_string_selfstudy.ipynb\" target=\"_parent\"><img src=\"https://colab.research.google.com/assets/colab-badge.svg\" alt=\"Open In Colab\"/></a>"
      ]
    },
    {
      "cell_type": "code",
      "metadata": {
        "colab": {
          "base_uri": "https://localhost:8080/",
          "height": 34
        },
        "id": "G6NwlSmymFe1",
        "outputId": "0399235e-4678-482b-a64c-bdbf5a4056a1"
      },
      "source": [
        "a = 'Life is too short, You need Python'\n",
        "a [19:-20]"
      ],
      "execution_count": null,
      "outputs": [
        {
          "output_type": "execute_result",
          "data": {
            "application/vnd.google.colaboratory.intrinsic+json": {
              "type": "string"
            },
            "text/plain": [
              "''"
            ]
          },
          "metadata": {
            "tags": []
          },
          "execution_count": 1
        }
      ]
    },
    {
      "cell_type": "code",
      "metadata": {
        "colab": {
          "base_uri": "https://localhost:8080/",
          "height": 34
        },
        "id": "8zM4HRHQmRS7",
        "outputId": "6735cce7-0b33-4416-d1d1-d1503270ab62"
      },
      "source": [
        "a = '20210623sunny'\n",
        "a [:4]"
      ],
      "execution_count": null,
      "outputs": [
        {
          "output_type": "execute_result",
          "data": {
            "application/vnd.google.colaboratory.intrinsic+json": {
              "type": "string"
            },
            "text/plain": [
              "'2021'"
            ]
          },
          "metadata": {
            "tags": []
          },
          "execution_count": 2
        }
      ]
    },
    {
      "cell_type": "code",
      "metadata": {
        "colab": {
          "base_uri": "https://localhost:8080/",
          "height": 34
        },
        "id": "qxk51nqSmY8H",
        "outputId": "69cbd06e-5098-41d3-da49-033753847385"
      },
      "source": [
        "a[4:8]"
      ],
      "execution_count": null,
      "outputs": [
        {
          "output_type": "execute_result",
          "data": {
            "application/vnd.google.colaboratory.intrinsic+json": {
              "type": "string"
            },
            "text/plain": [
              "'0623'"
            ]
          },
          "metadata": {
            "tags": []
          },
          "execution_count": 3
        }
      ]
    },
    {
      "cell_type": "code",
      "metadata": {
        "colab": {
          "base_uri": "https://localhost:8080/",
          "height": 34
        },
        "id": "IzEYV9cmmabT",
        "outputId": "863b36ca-3773-4579-f9d5-733589db536d"
      },
      "source": [
        "a[8:]"
      ],
      "execution_count": null,
      "outputs": [
        {
          "output_type": "execute_result",
          "data": {
            "application/vnd.google.colaboratory.intrinsic+json": {
              "type": "string"
            },
            "text/plain": [
              "'sunny'"
            ]
          },
          "metadata": {
            "tags": []
          },
          "execution_count": 4
        }
      ]
    },
    {
      "cell_type": "markdown",
      "metadata": {
        "id": "gpuBKTgYmgzA"
      },
      "source": [
        "문자열은 immutable ! 바꿀수없다! 이건 아마 리스트만 될듯?\n",
        "\n",
        "-> 슬라이싱으로 쪼개서 그 사이에 집어넣는 거만 가능함."
      ]
    },
    {
      "cell_type": "code",
      "metadata": {
        "colab": {
          "base_uri": "https://localhost:8080/",
          "height": 34
        },
        "id": "k3f25PBcm2ns",
        "outputId": "1d6214c6-3004-4323-93a4-e9202ccb23a6"
      },
      "source": [
        "'I like %d' %3"
      ],
      "execution_count": null,
      "outputs": [
        {
          "output_type": "execute_result",
          "data": {
            "application/vnd.google.colaboratory.intrinsic+json": {
              "type": "string"
            },
            "text/plain": [
              "'I like 3'"
            ]
          },
          "metadata": {
            "tags": []
          },
          "execution_count": 5
        }
      ]
    },
    {
      "cell_type": "code",
      "metadata": {
        "colab": {
          "base_uri": "https://localhost:8080/",
          "height": 34
        },
        "id": "xts3hzosm8a-",
        "outputId": "1c59d69c-6814-419f-f1f8-e1bfbb012429"
      },
      "source": [
        "'I like %d' %7"
      ],
      "execution_count": null,
      "outputs": [
        {
          "output_type": "execute_result",
          "data": {
            "application/vnd.google.colaboratory.intrinsic+json": {
              "type": "string"
            },
            "text/plain": [
              "'I like 7'"
            ]
          },
          "metadata": {
            "tags": []
          },
          "execution_count": 6
        }
      ]
    },
    {
      "cell_type": "code",
      "metadata": {
        "colab": {
          "base_uri": "https://localhost:8080/",
          "height": 34
        },
        "id": "g_ZLJ1K3m9RU",
        "outputId": "b982822f-04da-4b77-8844-54f23e161c9a"
      },
      "source": [
        "'I like %s' %'you'"
      ],
      "execution_count": null,
      "outputs": [
        {
          "output_type": "execute_result",
          "data": {
            "application/vnd.google.colaboratory.intrinsic+json": {
              "type": "string"
            },
            "text/plain": [
              "'I like you'"
            ]
          },
          "metadata": {
            "tags": []
          },
          "execution_count": 7
        }
      ]
    },
    {
      "cell_type": "code",
      "metadata": {
        "colab": {
          "base_uri": "https://localhost:8080/",
          "height": 34
        },
        "id": "IrB7xsulnCTf",
        "outputId": "dd899ad9-6101-4524-c9bf-da81660802c4"
      },
      "source": [
        "number = 100\n",
        "'I like %d' % number"
      ],
      "execution_count": null,
      "outputs": [
        {
          "output_type": "execute_result",
          "data": {
            "application/vnd.google.colaboratory.intrinsic+json": {
              "type": "string"
            },
            "text/plain": [
              "'I like 100'"
            ]
          },
          "metadata": {
            "tags": []
          },
          "execution_count": 8
        }
      ]
    },
    {
      "cell_type": "code",
      "metadata": {
        "colab": {
          "base_uri": "https://localhost:8080/",
          "height": 34
        },
        "id": "dK1_j6MkncX7",
        "outputId": "b820edad-7e4e-4e78-f6e8-e13cd0412dee"
      },
      "source": [
        "\"I have %s apples\" % 3"
      ],
      "execution_count": null,
      "outputs": [
        {
          "output_type": "execute_result",
          "data": {
            "application/vnd.google.colaboratory.intrinsic+json": {
              "type": "string"
            },
            "text/plain": [
              "'I have 3 apples'"
            ]
          },
          "metadata": {
            "tags": []
          },
          "execution_count": 9
        }
      ]
    },
    {
      "cell_type": "code",
      "metadata": {
        "colab": {
          "base_uri": "https://localhost:8080/",
          "height": 34
        },
        "id": "DvCCj-_rndd3",
        "outputId": "fbab6821-b438-482a-c58f-aec069a10e4f"
      },
      "source": [
        "\"I have %s apples\" % '3'"
      ],
      "execution_count": null,
      "outputs": [
        {
          "output_type": "execute_result",
          "data": {
            "application/vnd.google.colaboratory.intrinsic+json": {
              "type": "string"
            },
            "text/plain": [
              "'I have 3 apples'"
            ]
          },
          "metadata": {
            "tags": []
          },
          "execution_count": 10
        }
      ]
    },
    {
      "cell_type": "code",
      "metadata": {
        "colab": {
          "base_uri": "https://localhost:8080/"
        },
        "id": "Y-qGcshhoKCc",
        "outputId": "d36f2bef-f9af-471f-b72c-4e0a270fcd1a"
      },
      "source": [
        "len('hi        jane')"
      ],
      "execution_count": null,
      "outputs": [
        {
          "output_type": "execute_result",
          "data": {
            "text/plain": [
              "14"
            ]
          },
          "metadata": {
            "tags": []
          },
          "execution_count": 11
        }
      ]
    },
    {
      "cell_type": "markdown",
      "metadata": {
        "id": "A57RxJNUoRrX"
      },
      "source": [
        "**포맷 코드 숫자와 함께 사용하기 부터 공부하기**"
      ]
    },
    {
      "cell_type": "code",
      "metadata": {
        "id": "3tBwDSyfwKXL",
        "outputId": "0175955b-2eef-4c9d-d91b-efeaec226b32",
        "colab": {
          "base_uri": "https://localhost:8080/",
          "height": 34
        }
      },
      "source": [
        "#포맷 함수가 젤 좋음\n",
        "\n",
        "\"I eat {0} apples\".format(3)\n",
        "'I eat 3 apples'"
      ],
      "execution_count": 1,
      "outputs": [
        {
          "output_type": "execute_result",
          "data": {
            "application/vnd.google.colaboratory.intrinsic+json": {
              "type": "string"
            },
            "text/plain": [
              "'I eat 3 apples'"
            ]
          },
          "metadata": {
            "tags": []
          },
          "execution_count": 1
        }
      ]
    },
    {
      "cell_type": "code",
      "metadata": {
        "id": "hgf-52oZwi7B",
        "outputId": "00dee56a-3652-458d-e6f7-0a2af90715ac",
        "colab": {
          "base_uri": "https://localhost:8080/",
          "height": 130
        }
      },
      "source": [
        "\"I ate {number} apples. so I was sick for {1} days.\".format(number = 3, 10)\n",
        "\n",
        "# 인덱스 항목과 name = value를 혼용하는게 되는데 {1}은 안되고 {0}만 되는건가봐!!!!!"
      ],
      "execution_count": 5,
      "outputs": [
        {
          "output_type": "error",
          "ename": "SyntaxError",
          "evalue": "ignored",
          "traceback": [
            "\u001b[0;36m  File \u001b[0;32m\"<ipython-input-5-fc532dff46e8>\"\u001b[0;36m, line \u001b[0;32m1\u001b[0m\n\u001b[0;31m    \"I ate {number} apples. so I was sick for {1} days.\".format(number = 3, 10)\u001b[0m\n\u001b[0m                                                                           ^\u001b[0m\n\u001b[0;31mSyntaxError\u001b[0m\u001b[0;31m:\u001b[0m positional argument follows keyword argument\n"
          ]
        }
      ]
    },
    {
      "cell_type": "code",
      "metadata": {
        "id": "1zC_00NHxkU9",
        "outputId": "ed395bdd-b9af-4711-87f6-aae8fcc8f1e5",
        "colab": {
          "base_uri": "https://localhost:8080/",
          "height": 34
        }
      },
      "source": [
        "\"I {{and}} you did {0}\".format(1)"
      ],
      "execution_count": 6,
      "outputs": [
        {
          "output_type": "execute_result",
          "data": {
            "application/vnd.google.colaboratory.intrinsic+json": {
              "type": "string"
            },
            "text/plain": [
              "'I {and} you did 1'"
            ]
          },
          "metadata": {
            "tags": []
          },
          "execution_count": 6
        }
      ]
    },
    {
      "cell_type": "code",
      "metadata": {
        "id": "d5DgqAVG23Va",
        "outputId": "6ba8a8bd-bc07-482f-966f-e902660d2aab",
        "colab": {
          "base_uri": "https://localhost:8080/"
        }
      },
      "source": [
        "t1= 1,2,3\n",
        "t1[0]+t1[1]+t1[2]+4\n",
        "\n",
        "#주의!!~~~~ t1[:2] + 4 는 안됨! 왜??? t1[:2] 는 튜플로 나오니까 int랑 더할 수가 없다!!!!!"
      ],
      "execution_count": 11,
      "outputs": [
        {
          "output_type": "execute_result",
          "data": {
            "text/plain": [
              "10"
            ]
          },
          "metadata": {
            "tags": []
          },
          "execution_count": 11
        }
      ]
    },
    {
      "cell_type": "markdown",
      "metadata": {
        "id": "b6ZvRKJq3Zi_"
      },
      "source": [
        "**딕셔너리부터!!!!!!!!!!**"
      ]
    }
  ]
}