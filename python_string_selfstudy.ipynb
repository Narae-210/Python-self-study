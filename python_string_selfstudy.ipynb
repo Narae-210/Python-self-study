{
  "nbformat": 4,
  "nbformat_minor": 0,
  "metadata": {
    "colab": {
      "name": "python_string_selfstudy.ipynb",
      "provenance": [],
      "authorship_tag": "ABX9TyNFkC7fKOWjnPgmhj+wsk8J",
      "include_colab_link": true
    },
    "kernelspec": {
      "name": "python3",
      "display_name": "Python 3"
    },
    "language_info": {
      "name": "python"
    }
  },
  "cells": [
    {
      "cell_type": "markdown",
      "metadata": {
        "id": "view-in-github",
        "colab_type": "text"
      },
      "source": [
        "<a href=\"https://colab.research.google.com/github/Narae-210/Python-self-study/blob/main/python_string_selfstudy.ipynb\" target=\"_parent\"><img src=\"https://colab.research.google.com/assets/colab-badge.svg\" alt=\"Open In Colab\"/></a>"
      ]
    },
    {
      "cell_type": "code",
      "metadata": {
        "colab": {
          "base_uri": "https://localhost:8080/",
          "height": 34
        },
        "id": "G6NwlSmymFe1",
        "outputId": "0399235e-4678-482b-a64c-bdbf5a4056a1"
      },
      "source": [
        "a = 'Life is too short, You need Python'\n",
        "a [19:-20]"
      ],
      "execution_count": null,
      "outputs": [
        {
          "output_type": "execute_result",
          "data": {
            "application/vnd.google.colaboratory.intrinsic+json": {
              "type": "string"
            },
            "text/plain": [
              "''"
            ]
          },
          "metadata": {
            "tags": []
          },
          "execution_count": 1
        }
      ]
    },
    {
      "cell_type": "code",
      "metadata": {
        "colab": {
          "base_uri": "https://localhost:8080/",
          "height": 34
        },
        "id": "8zM4HRHQmRS7",
        "outputId": "6735cce7-0b33-4416-d1d1-d1503270ab62"
      },
      "source": [
        "a = '20210623sunny'\n",
        "a [:4]"
      ],
      "execution_count": null,
      "outputs": [
        {
          "output_type": "execute_result",
          "data": {
            "application/vnd.google.colaboratory.intrinsic+json": {
              "type": "string"
            },
            "text/plain": [
              "'2021'"
            ]
          },
          "metadata": {
            "tags": []
          },
          "execution_count": 2
        }
      ]
    },
    {
      "cell_type": "code",
      "metadata": {
        "colab": {
          "base_uri": "https://localhost:8080/",
          "height": 34
        },
        "id": "qxk51nqSmY8H",
        "outputId": "69cbd06e-5098-41d3-da49-033753847385"
      },
      "source": [
        "a[4:8]"
      ],
      "execution_count": null,
      "outputs": [
        {
          "output_type": "execute_result",
          "data": {
            "application/vnd.google.colaboratory.intrinsic+json": {
              "type": "string"
            },
            "text/plain": [
              "'0623'"
            ]
          },
          "metadata": {
            "tags": []
          },
          "execution_count": 3
        }
      ]
    },
    {
      "cell_type": "code",
      "metadata": {
        "colab": {
          "base_uri": "https://localhost:8080/",
          "height": 34
        },
        "id": "IzEYV9cmmabT",
        "outputId": "863b36ca-3773-4579-f9d5-733589db536d"
      },
      "source": [
        "a[8:]"
      ],
      "execution_count": null,
      "outputs": [
        {
          "output_type": "execute_result",
          "data": {
            "application/vnd.google.colaboratory.intrinsic+json": {
              "type": "string"
            },
            "text/plain": [
              "'sunny'"
            ]
          },
          "metadata": {
            "tags": []
          },
          "execution_count": 4
        }
      ]
    },
    {
      "cell_type": "markdown",
      "metadata": {
        "id": "gpuBKTgYmgzA"
      },
      "source": [
        "문자열은 immutable ! 바꿀수없다! 이건 아마 리스트만 될듯?\n",
        "\n",
        "-> 슬라이싱으로 쪼개서 그 사이에 집어넣는 거만 가능함."
      ]
    },
    {
      "cell_type": "code",
      "metadata": {
        "colab": {
          "base_uri": "https://localhost:8080/",
          "height": 34
        },
        "id": "k3f25PBcm2ns",
        "outputId": "1d6214c6-3004-4323-93a4-e9202ccb23a6"
      },
      "source": [
        "'I like %d' %3"
      ],
      "execution_count": null,
      "outputs": [
        {
          "output_type": "execute_result",
          "data": {
            "application/vnd.google.colaboratory.intrinsic+json": {
              "type": "string"
            },
            "text/plain": [
              "'I like 3'"
            ]
          },
          "metadata": {
            "tags": []
          },
          "execution_count": 5
        }
      ]
    },
    {
      "cell_type": "code",
      "metadata": {
        "colab": {
          "base_uri": "https://localhost:8080/",
          "height": 34
        },
        "id": "xts3hzosm8a-",
        "outputId": "1c59d69c-6814-419f-f1f8-e1bfbb012429"
      },
      "source": [
        "'I like %d' %7"
      ],
      "execution_count": null,
      "outputs": [
        {
          "output_type": "execute_result",
          "data": {
            "application/vnd.google.colaboratory.intrinsic+json": {
              "type": "string"
            },
            "text/plain": [
              "'I like 7'"
            ]
          },
          "metadata": {
            "tags": []
          },
          "execution_count": 6
        }
      ]
    },
    {
      "cell_type": "code",
      "metadata": {
        "colab": {
          "base_uri": "https://localhost:8080/",
          "height": 34
        },
        "id": "g_ZLJ1K3m9RU",
        "outputId": "b982822f-04da-4b77-8844-54f23e161c9a"
      },
      "source": [
        "'I like %s' %'you'"
      ],
      "execution_count": null,
      "outputs": [
        {
          "output_type": "execute_result",
          "data": {
            "application/vnd.google.colaboratory.intrinsic+json": {
              "type": "string"
            },
            "text/plain": [
              "'I like you'"
            ]
          },
          "metadata": {
            "tags": []
          },
          "execution_count": 7
        }
      ]
    },
    {
      "cell_type": "code",
      "metadata": {
        "colab": {
          "base_uri": "https://localhost:8080/",
          "height": 34
        },
        "id": "IrB7xsulnCTf",
        "outputId": "dd899ad9-6101-4524-c9bf-da81660802c4"
      },
      "source": [
        "number = 100\n",
        "'I like %d' % number"
      ],
      "execution_count": null,
      "outputs": [
        {
          "output_type": "execute_result",
          "data": {
            "application/vnd.google.colaboratory.intrinsic+json": {
              "type": "string"
            },
            "text/plain": [
              "'I like 100'"
            ]
          },
          "metadata": {
            "tags": []
          },
          "execution_count": 8
        }
      ]
    },
    {
      "cell_type": "code",
      "metadata": {
        "colab": {
          "base_uri": "https://localhost:8080/",
          "height": 34
        },
        "id": "dK1_j6MkncX7",
        "outputId": "b820edad-7e4e-4e78-f6e8-e13cd0412dee"
      },
      "source": [
        "\"I have %s apples\" % 3"
      ],
      "execution_count": null,
      "outputs": [
        {
          "output_type": "execute_result",
          "data": {
            "application/vnd.google.colaboratory.intrinsic+json": {
              "type": "string"
            },
            "text/plain": [
              "'I have 3 apples'"
            ]
          },
          "metadata": {
            "tags": []
          },
          "execution_count": 9
        }
      ]
    },
    {
      "cell_type": "code",
      "metadata": {
        "colab": {
          "base_uri": "https://localhost:8080/",
          "height": 34
        },
        "id": "DvCCj-_rndd3",
        "outputId": "fbab6821-b438-482a-c58f-aec069a10e4f"
      },
      "source": [
        "\"I have %s apples\" % '3'"
      ],
      "execution_count": null,
      "outputs": [
        {
          "output_type": "execute_result",
          "data": {
            "application/vnd.google.colaboratory.intrinsic+json": {
              "type": "string"
            },
            "text/plain": [
              "'I have 3 apples'"
            ]
          },
          "metadata": {
            "tags": []
          },
          "execution_count": 10
        }
      ]
    },
    {
      "cell_type": "code",
      "metadata": {
        "colab": {
          "base_uri": "https://localhost:8080/"
        },
        "id": "Y-qGcshhoKCc",
        "outputId": "d36f2bef-f9af-471f-b72c-4e0a270fcd1a"
      },
      "source": [
        "len('hi        jane')"
      ],
      "execution_count": null,
      "outputs": [
        {
          "output_type": "execute_result",
          "data": {
            "text/plain": [
              "14"
            ]
          },
          "metadata": {
            "tags": []
          },
          "execution_count": 11
        }
      ]
    },
    {
      "cell_type": "markdown",
      "metadata": {
        "id": "A57RxJNUoRrX"
      },
      "source": [
        "**포맷 코드 숫자와 함께 사용하기 부터 공부하기**"
      ]
    },
    {
      "cell_type": "code",
      "metadata": {
        "id": "3tBwDSyfwKXL",
        "colab": {
          "base_uri": "https://localhost:8080/",
          "height": 34
        },
        "outputId": "0175955b-2eef-4c9d-d91b-efeaec226b32"
      },
      "source": [
        "#포맷 함수가 젤 좋음\n",
        "\n",
        "\"I eat {0} apples\".format(3)\n",
        "'I eat 3 apples'"
      ],
      "execution_count": null,
      "outputs": [
        {
          "output_type": "execute_result",
          "data": {
            "application/vnd.google.colaboratory.intrinsic+json": {
              "type": "string"
            },
            "text/plain": [
              "'I eat 3 apples'"
            ]
          },
          "metadata": {
            "tags": []
          },
          "execution_count": 1
        }
      ]
    },
    {
      "cell_type": "code",
      "metadata": {
        "id": "hgf-52oZwi7B",
        "colab": {
          "base_uri": "https://localhost:8080/",
          "height": 130
        },
        "outputId": "00dee56a-3652-458d-e6f7-0a2af90715ac"
      },
      "source": [
        "\"I ate {number} apples. so I was sick for {1} days.\".format(number = 3, 10)\n",
        "\n",
        "# 인덱스 항목과 name = value를 혼용하는게 되는데 {1}은 안되고 {0}만 되는건가봐!!!!!"
      ],
      "execution_count": null,
      "outputs": [
        {
          "output_type": "error",
          "ename": "SyntaxError",
          "evalue": "ignored",
          "traceback": [
            "\u001b[0;36m  File \u001b[0;32m\"<ipython-input-5-fc532dff46e8>\"\u001b[0;36m, line \u001b[0;32m1\u001b[0m\n\u001b[0;31m    \"I ate {number} apples. so I was sick for {1} days.\".format(number = 3, 10)\u001b[0m\n\u001b[0m                                                                           ^\u001b[0m\n\u001b[0;31mSyntaxError\u001b[0m\u001b[0;31m:\u001b[0m positional argument follows keyword argument\n"
          ]
        }
      ]
    },
    {
      "cell_type": "code",
      "metadata": {
        "id": "1zC_00NHxkU9",
        "colab": {
          "base_uri": "https://localhost:8080/",
          "height": 34
        },
        "outputId": "ed395bdd-b9af-4711-87f6-aae8fcc8f1e5"
      },
      "source": [
        "\"I {{and}} you did {0}\".format(1)"
      ],
      "execution_count": null,
      "outputs": [
        {
          "output_type": "execute_result",
          "data": {
            "application/vnd.google.colaboratory.intrinsic+json": {
              "type": "string"
            },
            "text/plain": [
              "'I {and} you did 1'"
            ]
          },
          "metadata": {
            "tags": []
          },
          "execution_count": 6
        }
      ]
    },
    {
      "cell_type": "code",
      "metadata": {
        "id": "d5DgqAVG23Va",
        "colab": {
          "base_uri": "https://localhost:8080/"
        },
        "outputId": "6ba8a8bd-bc07-482f-966f-e902660d2aab"
      },
      "source": [
        "t1= 1,2,3\n",
        "t1[0]+t1[1]+t1[2]+4\n",
        "\n",
        "#주의!!~~~~ t1[:2] + 4 는 안됨! 왜??? t1[:2] 는 튜플로 나오니까 int랑 더할 수가 없다!!!!!"
      ],
      "execution_count": null,
      "outputs": [
        {
          "output_type": "execute_result",
          "data": {
            "text/plain": [
              "10"
            ]
          },
          "metadata": {
            "tags": []
          },
          "execution_count": 11
        }
      ]
    },
    {
      "cell_type": "markdown",
      "metadata": {
        "id": "b6ZvRKJq3Zi_"
      },
      "source": [
        "**딕셔너리부터!!!!!!!!!!**"
      ]
    },
    {
      "cell_type": "code",
      "metadata": {
        "id": "73iIsr2VEZG-",
        "colab": {
          "base_uri": "https://localhost:8080/"
        },
        "outputId": "f43e7614-a1fb-486b-b362-3b294a8ff8a2"
      },
      "source": [
        "a = {'name':'pey', 'phone':'0119993323', 'birth': '1118'}\n",
        "'1118' in a \n",
        "\n",
        "#in으로 찾을때 value 찾으면 false 뜨고 key 찾아야 true 뜬다"
      ],
      "execution_count": null,
      "outputs": [
        {
          "output_type": "execute_result",
          "data": {
            "text/plain": [
              "False"
            ]
          },
          "metadata": {
            "tags": []
          },
          "execution_count": 1
        }
      ]
    },
    {
      "cell_type": "code",
      "metadata": {
        "id": "NyAVtLLuGAZi",
        "colab": {
          "base_uri": "https://localhost:8080/"
        },
        "outputId": "18987cca-92f0-4b28-bc0a-1e99328f3801"
      },
      "source": [
        "s1 = set([1,2,3])\n",
        "s1"
      ],
      "execution_count": null,
      "outputs": [
        {
          "output_type": "execute_result",
          "data": {
            "text/plain": [
              "{1, 2, 3}"
            ]
          },
          "metadata": {
            "tags": []
          },
          "execution_count": 3
        }
      ]
    },
    {
      "cell_type": "code",
      "metadata": {
        "id": "hKEOZSalMsX-",
        "colab": {
          "base_uri": "https://localhost:8080/"
        },
        "outputId": "e30887cf-febe-456c-b24c-3f8ba6f263aa"
      },
      "source": [
        "1 == 1"
      ],
      "execution_count": null,
      "outputs": [
        {
          "output_type": "execute_result",
          "data": {
            "text/plain": [
              "True"
            ]
          },
          "metadata": {
            "tags": []
          },
          "execution_count": 4
        }
      ]
    },
    {
      "cell_type": "markdown",
      "metadata": {
        "id": "ienxHOf6Nug7"
      },
      "source": [
        "## **연습문제~!~!!!!**"
      ]
    },
    {
      "cell_type": "code",
      "metadata": {
        "id": "1EnghTn8NvyP",
        "outputId": "e5ed9fdd-fb30-489c-f214-142ac09df542",
        "colab": {
          "base_uri": "https://localhost:8080/"
        }
      },
      "source": [
        "k = 80\n",
        "e = 75\n",
        "m = 55\n",
        "\n",
        "(k + e + m)/3"
      ],
      "execution_count": 1,
      "outputs": [
        {
          "output_type": "execute_result",
          "data": {
            "text/plain": [
              "70.0"
            ]
          },
          "metadata": {
            "tags": []
          },
          "execution_count": 1
        }
      ]
    },
    {
      "cell_type": "code",
      "metadata": {
        "id": "uvvwGp_Kzpp_",
        "outputId": "b83fed52-4b5b-4176-c634-bff8136fe081",
        "colab": {
          "base_uri": "https://localhost:8080/"
        }
      },
      "source": [
        "a = 13\n",
        "if a / 2 == 0:\n",
        "  print('짝수')\n",
        "else:\n",
        "  print('홀수')"
      ],
      "execution_count": 2,
      "outputs": [
        {
          "output_type": "stream",
          "text": [
            "홀수\n"
          ],
          "name": "stdout"
        }
      ]
    },
    {
      "cell_type": "code",
      "metadata": {
        "id": "6Ur4c8lVzyL8",
        "outputId": "8b519b7e-76e7-4e31-d06c-7078206cfe81",
        "colab": {
          "base_uri": "https://localhost:8080/"
        }
      },
      "source": [
        "a = '881120-1068234'\n",
        "print('year '+ str(a[:2]))\n",
        "print('month '+ str(a[2:4]))\n",
        "print('day '+ str(a[4:6]))\n",
        "print('number '+ str(a[7:]))"
      ],
      "execution_count": 6,
      "outputs": [
        {
          "output_type": "stream",
          "text": [
            "year 88\n",
            "month 11\n",
            "day 20\n",
            "number 1068234\n"
          ],
          "name": "stdout"
        }
      ]
    },
    {
      "cell_type": "code",
      "metadata": {
        "id": "TgqcsbzW2LAJ",
        "outputId": "56ccbd70-5a5c-4a24-f49e-dd40957f1002",
        "colab": {
          "base_uri": "https://localhost:8080/",
          "height": 34
        }
      },
      "source": [
        "pin = \"881120-1068234\"\n",
        "pin[7]"
      ],
      "execution_count": 8,
      "outputs": [
        {
          "output_type": "execute_result",
          "data": {
            "application/vnd.google.colaboratory.intrinsic+json": {
              "type": "string"
            },
            "text/plain": [
              "'1'"
            ]
          },
          "metadata": {
            "tags": []
          },
          "execution_count": 8
        }
      ]
    },
    {
      "cell_type": "code",
      "metadata": {
        "id": "Z_sU3_fV2WLs",
        "outputId": "7fe83020-7a2e-498d-c292-bcd1570b9733",
        "colab": {
          "base_uri": "https://localhost:8080/",
          "height": 34
        }
      },
      "source": [
        "a = \"a:b:c:d\"\n",
        "a.replace(':','#')"
      ],
      "execution_count": 9,
      "outputs": [
        {
          "output_type": "execute_result",
          "data": {
            "application/vnd.google.colaboratory.intrinsic+json": {
              "type": "string"
            },
            "text/plain": [
              "'a#b#c#d'"
            ]
          },
          "metadata": {
            "tags": []
          },
          "execution_count": 9
        }
      ]
    },
    {
      "cell_type": "code",
      "metadata": {
        "id": "MSMWNv4p2cA9",
        "outputId": "9dbcbd69-b118-4684-c96d-687e3af4baa8",
        "colab": {
          "base_uri": "https://localhost:8080/"
        }
      },
      "source": [
        "list = [1, 3, 5, 4, 2]\n",
        "list.sort()\n",
        "list.reverse()\n",
        "list"
      ],
      "execution_count": 13,
      "outputs": [
        {
          "output_type": "execute_result",
          "data": {
            "text/plain": [
              "[5, 4, 3, 2, 1]"
            ]
          },
          "metadata": {
            "tags": []
          },
          "execution_count": 13
        }
      ]
    },
    {
      "cell_type": "code",
      "metadata": {
        "id": "5klJlUj05rb6",
        "outputId": "9ab17943-80e9-49f5-96be-d53617db9e14",
        "colab": {
          "base_uri": "https://localhost:8080/",
          "height": 34
        }
      },
      "source": [
        "list = ['Life', 'is', 'too', 'short']\n",
        "' '.join(list)"
      ],
      "execution_count": 15,
      "outputs": [
        {
          "output_type": "execute_result",
          "data": {
            "application/vnd.google.colaboratory.intrinsic+json": {
              "type": "string"
            },
            "text/plain": [
              "'Life is too short'"
            ]
          },
          "metadata": {
            "tags": []
          },
          "execution_count": 15
        }
      ]
    },
    {
      "cell_type": "code",
      "metadata": {
        "id": "mBs_OF-A5xRI",
        "outputId": "03749435-02c1-40c6-a9a1-5646a4d0f136",
        "colab": {
          "base_uri": "https://localhost:8080/"
        }
      },
      "source": [
        "t1 = (1,2,3)\n",
        "t1[0], t1[1], t1[2], 4"
      ],
      "execution_count": 16,
      "outputs": [
        {
          "output_type": "execute_result",
          "data": {
            "text/plain": [
              "(1, 2, 3, 4)"
            ]
          },
          "metadata": {
            "tags": []
          },
          "execution_count": 16
        }
      ]
    },
    {
      "cell_type": "code",
      "metadata": {
        "id": "AwZC2N90-avX",
        "outputId": "f8351c70-2748-4a58-d53b-dd93a8e3826c",
        "colab": {
          "base_uri": "https://localhost:8080/"
        }
      },
      "source": [
        "#여기는 답ㅇㅣ고임!!!\n",
        "a = (1, 2, 3)\n",
        "a = a + (4,)\n",
        "print(a) "
      ],
      "execution_count": 31,
      "outputs": [
        {
          "output_type": "stream",
          "text": [
            "(1, 2, 3, 4)\n"
          ],
          "name": "stdout"
        }
      ]
    },
    {
      "cell_type": "code",
      "metadata": {
        "id": "AHQMr3l17IEN",
        "outputId": "cb9d0efb-21c3-4451-aed4-458aff20958c",
        "colab": {
          "base_uri": "https://localhost:8080/",
          "height": 181
        }
      },
      "source": [
        "a = dict()\n",
        "a[[1]] = 'python'\n"
      ],
      "execution_count": 17,
      "outputs": [
        {
          "output_type": "error",
          "ename": "TypeError",
          "evalue": "ignored",
          "traceback": [
            "\u001b[0;31m---------------------------------------------------------------------------\u001b[0m",
            "\u001b[0;31mTypeError\u001b[0m                                 Traceback (most recent call last)",
            "\u001b[0;32m<ipython-input-17-c0d69eb6d568>\u001b[0m in \u001b[0;36m<module>\u001b[0;34m()\u001b[0m\n\u001b[1;32m      1\u001b[0m \u001b[0ma\u001b[0m \u001b[0;34m=\u001b[0m \u001b[0mdict\u001b[0m\u001b[0;34m(\u001b[0m\u001b[0;34m)\u001b[0m\u001b[0;34m\u001b[0m\u001b[0;34m\u001b[0m\u001b[0m\n\u001b[0;32m----> 2\u001b[0;31m \u001b[0ma\u001b[0m\u001b[0;34m[\u001b[0m\u001b[0;34m[\u001b[0m\u001b[0;36m1\u001b[0m\u001b[0;34m]\u001b[0m\u001b[0;34m]\u001b[0m \u001b[0;34m=\u001b[0m \u001b[0;34m'python'\u001b[0m\u001b[0;34m\u001b[0m\u001b[0;34m\u001b[0m\u001b[0m\n\u001b[0m",
            "\u001b[0;31mTypeError\u001b[0m: unhashable type: 'list'"
          ]
        }
      ]
    },
    {
      "cell_type": "code",
      "metadata": {
        "id": "Ps1KINun7koI",
        "outputId": "085ace08-5253-4101-effc-85d6dd1fba03",
        "colab": {
          "base_uri": "https://localhost:8080/",
          "height": 198
        }
      },
      "source": [
        "a = {'A':90, 'B':80, 'C':70}\n",
        "b = a.keys()\n",
        "list(b)"
      ],
      "execution_count": 46,
      "outputs": [
        {
          "output_type": "error",
          "ename": "TypeError",
          "evalue": "ignored",
          "traceback": [
            "\u001b[0;31m---------------------------------------------------------------------------\u001b[0m",
            "\u001b[0;31mTypeError\u001b[0m                                 Traceback (most recent call last)",
            "\u001b[0;32m<ipython-input-46-feaa00df32a8>\u001b[0m in \u001b[0;36m<module>\u001b[0;34m()\u001b[0m\n\u001b[1;32m      1\u001b[0m \u001b[0ma\u001b[0m \u001b[0;34m=\u001b[0m \u001b[0;34m{\u001b[0m\u001b[0;34m'A'\u001b[0m\u001b[0;34m:\u001b[0m\u001b[0;36m90\u001b[0m\u001b[0;34m,\u001b[0m \u001b[0;34m'B'\u001b[0m\u001b[0;34m:\u001b[0m\u001b[0;36m80\u001b[0m\u001b[0;34m,\u001b[0m \u001b[0;34m'C'\u001b[0m\u001b[0;34m:\u001b[0m\u001b[0;36m70\u001b[0m\u001b[0;34m}\u001b[0m\u001b[0;34m\u001b[0m\u001b[0;34m\u001b[0m\u001b[0m\n\u001b[1;32m      2\u001b[0m \u001b[0mb\u001b[0m \u001b[0;34m=\u001b[0m \u001b[0ma\u001b[0m\u001b[0;34m.\u001b[0m\u001b[0mkeys\u001b[0m\u001b[0;34m(\u001b[0m\u001b[0;34m)\u001b[0m\u001b[0;34m\u001b[0m\u001b[0;34m\u001b[0m\u001b[0m\n\u001b[0;32m----> 3\u001b[0;31m \u001b[0mlist\u001b[0m\u001b[0;34m(\u001b[0m\u001b[0mb\u001b[0m\u001b[0;34m)\u001b[0m\u001b[0;34m\u001b[0m\u001b[0;34m\u001b[0m\u001b[0m\n\u001b[0m",
            "\u001b[0;31mTypeError\u001b[0m: 'list' object is not callable"
          ]
        }
      ]
    },
    {
      "cell_type": "code",
      "metadata": {
        "id": "CE9nu4qN-xpB",
        "outputId": "be13d543-b215-4b75-ae96-a2f8040a3e01",
        "colab": {
          "base_uri": "https://localhost:8080/"
        }
      },
      "source": [
        "a = {'A':90, 'B':80, 'C':70}\n",
        "result = a.pop('B')\n",
        "print(a)            # {'A':90, 'C':70} 출력\n",
        "print(result)       # 80 출력"
      ],
      "execution_count": 32,
      "outputs": [
        {
          "output_type": "stream",
          "text": [
            "{'A': 90, 'C': 70}\n",
            "80\n"
          ],
          "name": "stdout"
        }
      ]
    },
    {
      "cell_type": "code",
      "metadata": {
        "id": "JPvDED_fNISW",
        "outputId": "cbf66685-b384-41d3-8e12-e2ae6350e3b1",
        "colab": {
          "base_uri": "https://localhost:8080/"
        }
      },
      "source": [
        "a = {'A':90, 'B':80, 'C':70}\n",
        "result = a.pop('B')\n",
        "a"
      ],
      "execution_count": 36,
      "outputs": [
        {
          "output_type": "execute_result",
          "data": {
            "text/plain": [
              "{'A': 90, 'C': 70}"
            ]
          },
          "metadata": {
            "tags": []
          },
          "execution_count": 36
        }
      ]
    },
    {
      "cell_type": "code",
      "metadata": {
        "id": "GwT4tk6M8GkN",
        "outputId": "1da90ea4-7222-4d22-da1d-344c4a880366",
        "colab": {
          "base_uri": "https://localhost:8080/"
        }
      },
      "source": [
        "a = [1, 1, 1, 2, 2, 3, 3, 3, 4, 4, 5]\n",
        "set(a)"
      ],
      "execution_count": 26,
      "outputs": [
        {
          "output_type": "execute_result",
          "data": {
            "text/plain": [
              "{1, 2, 3, 4, 5}"
            ]
          },
          "metadata": {
            "tags": []
          },
          "execution_count": 26
        }
      ]
    },
    {
      "cell_type": "code",
      "metadata": {
        "id": "DfYk8Wcy9Se0",
        "outputId": "ef5162cc-4fd9-4c6a-ab70-ad96b8ea9ac8",
        "colab": {
          "base_uri": "https://localhost:8080/"
        }
      },
      "source": [
        "a = b = [1,2,3]\n",
        "a [1] = 4\n",
        "print(b)\n",
        "id(a) == id (b)"
      ],
      "execution_count": 30,
      "outputs": [
        {
          "output_type": "stream",
          "text": [
            "[1, 4, 3]\n"
          ],
          "name": "stdout"
        },
        {
          "output_type": "execute_result",
          "data": {
            "text/plain": [
              "True"
            ]
          },
          "metadata": {
            "tags": []
          },
          "execution_count": 30
        }
      ]
    }
  ]
}