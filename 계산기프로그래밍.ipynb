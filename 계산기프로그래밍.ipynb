{
  "nbformat": 4,
  "nbformat_minor": 0,
  "metadata": {
    "colab": {
      "name": "계산기프로그래밍.ipynb",
      "provenance": [],
      "collapsed_sections": [],
      "authorship_tag": "ABX9TyMLB3I2N4QCoINySfE6W5z/",
      "include_colab_link": true
    },
    "kernelspec": {
      "name": "python3",
      "display_name": "Python 3"
    },
    "language_info": {
      "name": "python"
    }
  },
  "cells": [
    {
      "cell_type": "markdown",
      "metadata": {
        "id": "view-in-github",
        "colab_type": "text"
      },
      "source": [
        "<a href=\"https://colab.research.google.com/github/Narae-210/Python-self-study/blob/main/%EA%B3%84%EC%82%B0%EA%B8%B0%ED%94%84%EB%A1%9C%EA%B7%B8%EB%9E%98%EB%B0%8D.ipynb\" target=\"_parent\"><img src=\"https://colab.research.google.com/assets/colab-badge.svg\" alt=\"Open In Colab\"/></a>"
      ]
    },
    {
      "cell_type": "code",
      "metadata": {
        "colab": {
          "base_uri": "https://localhost:8080/"
        },
        "id": "EKThEUpH5NNE",
        "outputId": "0d5791a6-effe-45e1-924d-700faa18fa2b"
      },
      "source": [
        "#정규표현 공부\n",
        "\n",
        "import re\n",
        "p = re.compile('[a-z]+')\n",
        "m = p.match('python')\n",
        "print(m)\n",
        "\n",
        "#match 랑 search 는 찾은 객체를 돌려주고 findall 은 literally 찾아서 준다!\n",
        "\n",
        "f = p.findall('hey, hello!')\n",
        "print(f)\n",
        "#리스트 형식으로 출력\n",
        "\n",
        "i = p.finditer ('hello! wow~')\n",
        "print(i)\n",
        "print('============')\n",
        "for x in i:\n",
        "  print(x)"
      ],
      "execution_count": null,
      "outputs": [
        {
          "output_type": "stream",
          "text": [
            "<re.Match object; span=(0, 6), match='python'>\n",
            "['hey', 'hello']\n",
            "<callable_iterator object at 0x7f9507e8e1d0>\n",
            "============\n",
            "<re.Match object; span=(0, 5), match='hello'>\n",
            "<re.Match object; span=(7, 10), match='wow'>\n"
          ],
          "name": "stdout"
        }
      ]
    },
    {
      "cell_type": "code",
      "metadata": {
        "colab": {
          "base_uri": "https://localhost:8080/"
        },
        "id": "VYBXbTVi-yXF",
        "outputId": "4ec60267-81e9-4916-b739-42ee32c67e7a"
      },
      "source": [
        "p = re.compile('[a-z]+')\n",
        "m = p.search('PyTHON')\n",
        "print(m)"
      ],
      "execution_count": null,
      "outputs": [
        {
          "output_type": "stream",
          "text": [
            "<re.Match object; span=(1, 2), match='y'>\n"
          ],
          "name": "stdout"
        }
      ]
    },
    {
      "cell_type": "code",
      "metadata": {
        "id": "kq789eO0HUDa",
        "colab": {
          "base_uri": "https://localhost:8080/"
        },
        "outputId": "a0c644b0-c2f2-4762-a499-1eb308746563"
      },
      "source": [
        "import re\n",
        "\n",
        "print('7   ', '8   ', '9   ', '*')\n",
        "print('4   ', '5   ', '6   ', '-')\n",
        "print('1   ', '2   ', '3   ', '+')\n",
        "print('0   ', '      ', '.   ', '=')\n",
        "\n",
        "a = input()\n",
        "\n",
        "sum = ''\n",
        "for i in a:\n",
        "  sum += i\n",
        "\n",
        "result = re.findall('(\\d+)(\\W)(\\d+)', sum)\n",
        "#print('나오니!?!! ' + str(result))\n",
        "\n",
        "def calcu(x):\n",
        "  #print(type(x)\n",
        "  #print(x)\n",
        "  if '+' in x[0]:\n",
        "    return int(x[0][0]) + int(x[0][2])\n",
        "  if '-' in x[0]:\n",
        "    return int(x[0][0]) - int(x[0][2])\n",
        "  if '*' in x[0]:\n",
        "    return int(x[0][0]) * int(x[0][2])\n",
        "  if '/' in x[0]:\n",
        "    return int(x[0][0]) / int(x[0][2])\n",
        "  return '메롱'\n",
        "\n",
        "print(calcu(result))\n"
      ],
      "execution_count": 47,
      "outputs": [
        {
          "output_type": "stream",
          "text": [
            "7    8    9    *\n",
            "4    5    6    -\n",
            "1    2    3    +\n",
            "0           .    =\n",
            "11+22\n",
            "33\n"
          ],
          "name": "stdout"
        }
      ]
    },
    {
      "cell_type": "code",
      "metadata": {
        "id": "lY5Esrji2PPc",
        "outputId": "f772d289-61f0-4e30-b5d6-3e7243d4fdb6",
        "colab": {
          "base_uri": "https://localhost:8080/"
        }
      },
      "source": [
        "def add(a,b):\n",
        "  return a + b\n",
        "add(1,2)"
      ],
      "execution_count": 33,
      "outputs": [
        {
          "output_type": "execute_result",
          "data": {
            "text/plain": [
              "3"
            ]
          },
          "metadata": {
            "tags": []
          },
          "execution_count": 33
        }
      ]
    },
    {
      "cell_type": "code",
      "metadata": {
        "colab": {
          "base_uri": "https://localhost:8080/"
        },
        "id": "MNz9eIkuHj26",
        "outputId": "e0bb61a8-76b2-497c-cdc3-115151433e5c"
      },
      "source": [
        "import re\n",
        "result = re.findall(r'[a-z]', 'hello')\n",
        "print(result)"
      ],
      "execution_count": null,
      "outputs": [
        {
          "output_type": "stream",
          "text": [
            "['h', 'e', 'l', 'l', 'o']\n"
          ],
          "name": "stdout"
        }
      ]
    },
    {
      "cell_type": "code",
      "metadata": {
        "id": "JE9b0oCGyIZT",
        "outputId": "ed1a313a-e498-4906-f487-11cedd9be4ef",
        "colab": {
          "base_uri": "https://localhost:8080/"
        }
      },
      "source": [
        "import re\n",
        "result = re.findall('\\w', 'hello')\n",
        "print(result)"
      ],
      "execution_count": 19,
      "outputs": [
        {
          "output_type": "stream",
          "text": [
            "['h', 'e', 'l', 'l', 'o']\n"
          ],
          "name": "stdout"
        }
      ]
    },
    {
      "cell_type": "code",
      "metadata": {
        "colab": {
          "base_uri": "https://localhost:8080/"
        },
        "id": "dHRG6dUMIyJS",
        "outputId": "67af8e54-267e-4694-d4c5-ba18c5acbe4f"
      },
      "source": [
        "p = re.compile('[a-z]+')\n",
        "result = p.findall(\"life is too short\")\n",
        "print(result)\n"
      ],
      "execution_count": null,
      "outputs": [
        {
          "output_type": "stream",
          "text": [
            "['life', 'is', 'too', 'short']\n"
          ],
          "name": "stdout"
        }
      ]
    },
    {
      "cell_type": "code",
      "metadata": {
        "colab": {
          "base_uri": "https://localhost:8080/"
        },
        "id": "r5sNB5f6Keo5",
        "outputId": "c97307b3-c580-49cf-cb18-586655a6dd38"
      },
      "source": [
        "result = re.findall('1+1', ' [0-9]+, [/W],[0-9]+')\n",
        "print(result)"
      ],
      "execution_count": null,
      "outputs": [
        {
          "output_type": "stream",
          "text": [
            "[]\n"
          ],
          "name": "stdout"
        }
      ]
    }
  ]
}