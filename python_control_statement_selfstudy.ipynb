{
  "nbformat": 4,
  "nbformat_minor": 0,
  "metadata": {
    "colab": {
      "name": "python_control_statement_selfstudy",
      "provenance": [],
      "authorship_tag": "ABX9TyMYvJkbank/zuTBVE5l27s8",
      "include_colab_link": true
    },
    "kernelspec": {
      "name": "python3",
      "display_name": "Python 3"
    },
    "language_info": {
      "name": "python"
    }
  },
  "cells": [
    {
      "cell_type": "markdown",
      "metadata": {
        "id": "view-in-github",
        "colab_type": "text"
      },
      "source": [
        "<a href=\"https://colab.research.google.com/github/Narae-210/Python-self-study/blob/main/python_control_statement_selfstudy.ipynb\" target=\"_parent\"><img src=\"https://colab.research.google.com/assets/colab-badge.svg\" alt=\"Open In Colab\"/></a>"
      ]
    },
    {
      "cell_type": "code",
      "metadata": {
        "colab": {
          "base_uri": "https://localhost:8080/"
        },
        "id": "yLEyQr7_ZXAG",
        "outputId": "65c5a00c-2c9d-4532-b56a-ba7ec4b40bbe"
      },
      "source": [
        "# marks2.py \n",
        "marks = [90, 25, 67, 45, 80]\n",
        "\n",
        "number = 0\n",
        "for i in marks:\n",
        "  number += 1\n",
        "  if i >= 60:\n",
        "    print(\"%d번 학생 축하합니다.\" % number)\n",
        "  else: continue\n"
      ],
      "execution_count": 2,
      "outputs": [
        {
          "output_type": "stream",
          "text": [
            "1번 학생 축하합니다.\n",
            "3번 학생 축하합니다.\n",
            "5번 학생 축하합니다.\n"
          ],
          "name": "stdout"
        }
      ]
    },
    {
      "cell_type": "code",
      "metadata": {
        "colab": {
          "base_uri": "https://localhost:8080/"
        },
        "id": "0ShxHsD7bmLX",
        "outputId": "c5612623-d08e-4dd8-dbd3-404d08897fee"
      },
      "source": [
        "#marks3.py\n",
        "marks = [90, 25, 67, 45, 80]\n",
        "for number in range(len(marks)):\n",
        "    if marks[number] < 60: \n",
        "        continue\n",
        "    print(\"%d번 학생 축하합니다. 합격입니다.\" % (number+1))"
      ],
      "execution_count": 3,
      "outputs": [
        {
          "output_type": "stream",
          "text": [
            "1번 학생 축하합니다. 합격입니다.\n",
            "3번 학생 축하합니다. 합격입니다.\n",
            "5번 학생 축하합니다. 합격입니다.\n"
          ],
          "name": "stdout"
        }
      ]
    },
    {
      "cell_type": "code",
      "metadata": {
        "id": "HWzeeUtnbyi3"
      },
      "source": [
        "#구구단\n",
        "\n",
        "for i in range(2,10):\n",
        "  for j in range (1,10):\n",
        "    print(i*j)"
      ],
      "execution_count": null,
      "outputs": []
    },
    {
      "cell_type": "code",
      "metadata": {
        "colab": {
          "base_uri": "https://localhost:8080/"
        },
        "id": "kIrhIwyGoJ-3",
        "outputId": "04c3a3db-5aa2-4b3b-ba15-743d0f4fd812"
      },
      "source": [
        "for i in range(2,10):\n",
        "  for j in range(1, 10):\n",
        "    print(i*j, end=\" \") \n",
        "  print('') "
      ],
      "execution_count": 9,
      "outputs": [
        {
          "output_type": "stream",
          "text": [
            "2 4 6 8 10 12 14 16 18 \n",
            "3 6 9 12 15 18 21 24 27 \n",
            "4 8 12 16 20 24 28 32 36 \n",
            "5 10 15 20 25 30 35 40 45 \n",
            "6 12 18 24 30 36 42 48 54 \n",
            "7 14 21 28 35 42 49 56 63 \n",
            "8 16 24 32 40 48 56 64 72 \n",
            "9 18 27 36 45 54 63 72 81 \n"
          ],
          "name": "stdout"
        }
      ]
    },
    {
      "cell_type": "markdown",
      "metadata": {
        "id": "RAiRFN_AxVLo"
      },
      "source": [
        "### **연습문제~!!!**"
      ]
    },
    {
      "cell_type": "code",
      "metadata": {
        "colab": {
          "base_uri": "https://localhost:8080/"
        },
        "id": "TInifApExYM0",
        "outputId": "ea3c4f34-d813-4073-d808-3a866dc4cb8e"
      },
      "source": [
        "a = \"Life is too short, you need python\"\n",
        "\n",
        "if \"wife\" in a: print(\"wife\")\n",
        "elif \"python\" in a and \"you\" not in a: print(\"python\")\n",
        "elif \"shirt\" not in a: print(\"shirt\")\n",
        "elif \"need\" in a: print(\"need\") #이거 왜 프린트 안되누,,,,\n",
        "else: print(\"none\")"
      ],
      "execution_count": 11,
      "outputs": [
        {
          "output_type": "stream",
          "text": [
            "shirt\n"
          ],
          "name": "stdout"
        }
      ]
    },
    {
      "cell_type": "code",
      "metadata": {
        "colab": {
          "base_uri": "https://localhost:8080/"
        },
        "id": "dlLs76I2x3Xp",
        "outputId": "5433fc1e-40d8-457f-e39e-3d3bc30f67c2"
      },
      "source": [
        "#while문을 사용해 1부터 1000까지의 자연수 중 3의 배수의 합을 구해 보자.\n",
        "\n",
        "i=0\n",
        "sum=0\n",
        "while i <1000:\n",
        "  i += 1 \n",
        "  if i % 3 ==0:\n",
        "     sum += i\n",
        "print(sum)"
      ],
      "execution_count": 13,
      "outputs": [
        {
          "output_type": "stream",
          "text": [
            "166833\n"
          ],
          "name": "stdout"
        }
      ]
    },
    {
      "cell_type": "code",
      "metadata": {
        "colab": {
          "base_uri": "https://localhost:8080/"
        },
        "id": "YMftPI9IyPuU",
        "outputId": "f54e7357-5c66-4068-df3c-46e851888504"
      },
      "source": [
        "#while문을 사용하여 다음과 같이 별(*)을 표시하는 프로그램을 작성해 보자.\n",
        "\n",
        "i = 0\n",
        "while i < 5:\n",
        "  i += 1\n",
        "  print('*' * i)"
      ],
      "execution_count": 16,
      "outputs": [
        {
          "output_type": "stream",
          "text": [
            "*\n",
            "**\n",
            "***\n",
            "****\n",
            "*****\n"
          ],
          "name": "stdout"
        }
      ]
    },
    {
      "cell_type": "code",
      "metadata": {
        "colab": {
          "base_uri": "https://localhost:8080/"
        },
        "id": "DaXj93oaylWw",
        "outputId": "7a76f1b2-f795-48ca-fe57-8e527917e975"
      },
      "source": [
        "#for문을 사용해 1부터 100까지의 숫자를 출력해 보자.\n",
        "\n",
        "for i in range(1,101):\n",
        "  print(i)"
      ],
      "execution_count": 17,
      "outputs": [
        {
          "output_type": "stream",
          "text": [
            "1\n",
            "2\n",
            "3\n",
            "4\n",
            "5\n",
            "6\n",
            "7\n",
            "8\n",
            "9\n",
            "10\n",
            "11\n",
            "12\n",
            "13\n",
            "14\n",
            "15\n",
            "16\n",
            "17\n",
            "18\n",
            "19\n",
            "20\n",
            "21\n",
            "22\n",
            "23\n",
            "24\n",
            "25\n",
            "26\n",
            "27\n",
            "28\n",
            "29\n",
            "30\n",
            "31\n",
            "32\n",
            "33\n",
            "34\n",
            "35\n",
            "36\n",
            "37\n",
            "38\n",
            "39\n",
            "40\n",
            "41\n",
            "42\n",
            "43\n",
            "44\n",
            "45\n",
            "46\n",
            "47\n",
            "48\n",
            "49\n",
            "50\n",
            "51\n",
            "52\n",
            "53\n",
            "54\n",
            "55\n",
            "56\n",
            "57\n",
            "58\n",
            "59\n",
            "60\n",
            "61\n",
            "62\n",
            "63\n",
            "64\n",
            "65\n",
            "66\n",
            "67\n",
            "68\n",
            "69\n",
            "70\n",
            "71\n",
            "72\n",
            "73\n",
            "74\n",
            "75\n",
            "76\n",
            "77\n",
            "78\n",
            "79\n",
            "80\n",
            "81\n",
            "82\n",
            "83\n",
            "84\n",
            "85\n",
            "86\n",
            "87\n",
            "88\n",
            "89\n",
            "90\n",
            "91\n",
            "92\n",
            "93\n",
            "94\n",
            "95\n",
            "96\n",
            "97\n",
            "98\n",
            "99\n",
            "100\n"
          ],
          "name": "stdout"
        }
      ]
    },
    {
      "cell_type": "code",
      "metadata": {
        "colab": {
          "base_uri": "https://localhost:8080/"
        },
        "id": "rzLajsTwywPG",
        "outputId": "3eb90a77-5a0e-44a0-afb1-1f979648d0dc"
      },
      "source": [
        "#A 학급에 총 10명의 학생이 있다. 이 학생들의 중간고사 점수는 다음과 같다.\n",
        "\n",
        "classA = [70, 60, 55, 75, 95, 90, 80, 80, 85, 100]\n",
        "\n",
        "#for문을 사용하여 A 학급의 평균 점수를 구해 보자.\n",
        "\n",
        "sum =0\n",
        "for i in classA:\n",
        "  sum += i\n",
        "print(sum/len(classA))"
      ],
      "execution_count": 21,
      "outputs": [
        {
          "output_type": "stream",
          "text": [
            "79.0\n"
          ],
          "name": "stdout"
        }
      ]
    },
    {
      "cell_type": "code",
      "metadata": {
        "id": "DIkQ0kZYzOOh"
      },
      "source": [
        "numbers = [1, 2, 3, 4, 5]\n",
        "result = []\n",
        "for n in numbers:\n",
        "    if n % 2 == 1:\n",
        "        result.append(n*2)"
      ],
      "execution_count": 22,
      "outputs": []
    },
    {
      "cell_type": "code",
      "metadata": {
        "colab": {
          "base_uri": "https://localhost:8080/"
        },
        "id": "6utiilcdzRe4",
        "outputId": "7a450331-5235-43a4-936d-5baf2ddb3d40"
      },
      "source": [
        "[n * 2 for n in numbers if n % 2 == 1]"
      ],
      "execution_count": 23,
      "outputs": [
        {
          "output_type": "execute_result",
          "data": {
            "text/plain": [
              "[2, 6, 10]"
            ]
          },
          "metadata": {
            "tags": []
          },
          "execution_count": 23
        }
      ]
    }
  ]
}