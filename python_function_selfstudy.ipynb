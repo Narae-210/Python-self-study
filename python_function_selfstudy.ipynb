{
  "nbformat": 4,
  "nbformat_minor": 0,
  "metadata": {
    "colab": {
      "name": "python_function_selfstudy.ipynb",
      "provenance": [],
      "authorship_tag": "ABX9TyO48ovCCGm5FBlK+3lCfh+S",
      "include_colab_link": true
    },
    "kernelspec": {
      "name": "python3",
      "display_name": "Python 3"
    },
    "language_info": {
      "name": "python"
    }
  },
  "cells": [
    {
      "cell_type": "markdown",
      "metadata": {
        "id": "view-in-github",
        "colab_type": "text"
      },
      "source": [
        "<a href=\"https://colab.research.google.com/github/Narae-210/Python-self-study/blob/main/python_function_selfstudy.ipynb\" target=\"_parent\"><img src=\"https://colab.research.google.com/assets/colab-badge.svg\" alt=\"Open In Colab\"/></a>"
      ]
    },
    {
      "cell_type": "code",
      "metadata": {
        "id": "Hy9iVIEu80tD"
      },
      "source": [
        "# vartest.py\n",
        "#a = 1\n",
        "def vartest(a):\n",
        "    a = a +1\n",
        "\n",
        "vartest(a) #아무것도 안나오고\n",
        "#print(a) #그냥 1이 나옴! 왜냐면 a에서 1이 더해진건 vartest 함수 안에서만 일어난 일이고 return 반환값이 없으니까 함수 밖으로 안나와"
      ],
      "execution_count": 9,
      "outputs": []
    },
    {
      "cell_type": "code",
      "metadata": {
        "colab": {
          "base_uri": "https://localhost:8080/"
        },
        "id": "Jt2dEAnUgHgw",
        "outputId": "b873b797-3778-4eaf-e591-d1109833b947"
      },
      "source": [
        "# vartest_error.py\n",
        "def vartest(a):\n",
        "    a = a + 1\n",
        "\n",
        "#vartest(3)\n",
        "print(a) #이 컴터 자식이 a를 까먹지 않으니까 ;; 어쩔수없음^^"
      ],
      "execution_count": 10,
      "outputs": [
        {
          "output_type": "stream",
          "text": [
            "1\n"
          ],
          "name": "stdout"
        }
      ]
    },
    {
      "cell_type": "code",
      "metadata": {
        "colab": {
          "base_uri": "https://localhost:8080/",
          "height": 198
        },
        "id": "QKU10ztdgcV2",
        "outputId": "2a0b29a3-3c68-4435-c5d4-ff24058bf30a"
      },
      "source": [
        "def vartest(hello):\n",
        "  hello += 1\n",
        "\n",
        "print(hello) # 여기 error 나지! 왜냐면 hello 는 함수 안에서만 정의돼서 그럼"
      ],
      "execution_count": 11,
      "outputs": [
        {
          "output_type": "error",
          "ename": "NameError",
          "evalue": "ignored",
          "traceback": [
            "\u001b[0;31m---------------------------------------------------------------------------\u001b[0m",
            "\u001b[0;31mNameError\u001b[0m                                 Traceback (most recent call last)",
            "\u001b[0;32m<ipython-input-11-55bcb1c8ba14>\u001b[0m in \u001b[0;36m<module>\u001b[0;34m()\u001b[0m\n\u001b[1;32m      2\u001b[0m   \u001b[0mhello\u001b[0m \u001b[0;34m+=\u001b[0m \u001b[0;36m1\u001b[0m\u001b[0;34m\u001b[0m\u001b[0;34m\u001b[0m\u001b[0m\n\u001b[1;32m      3\u001b[0m \u001b[0;34m\u001b[0m\u001b[0m\n\u001b[0;32m----> 4\u001b[0;31m \u001b[0mprint\u001b[0m\u001b[0;34m(\u001b[0m\u001b[0mhello\u001b[0m\u001b[0;34m)\u001b[0m\u001b[0;34m\u001b[0m\u001b[0;34m\u001b[0m\u001b[0m\n\u001b[0m",
            "\u001b[0;31mNameError\u001b[0m: name 'hello' is not defined"
          ]
        }
      ]
    },
    {
      "cell_type": "code",
      "metadata": {
        "colab": {
          "base_uri": "https://localhost:8080/"
        },
        "id": "BQ-Mik96guA0",
        "outputId": "9e8ef31b-70cc-431b-9c90-d69fe73fccc6"
      },
      "source": [
        "na = 1\n",
        "def vartest():\n",
        "  global na\n",
        "  na += 1\n",
        "  return na\n",
        "vartest()"
      ],
      "execution_count": 17,
      "outputs": [
        {
          "output_type": "execute_result",
          "data": {
            "text/plain": [
              "2"
            ]
          },
          "metadata": {
            "tags": []
          },
          "execution_count": 17
        }
      ]
    },
    {
      "cell_type": "code",
      "metadata": {
        "colab": {
          "base_uri": "https://localhost:8080/"
        },
        "id": "oGqGne9klf3r",
        "outputId": "ebec6f1b-b6d7-41a9-9a16-d9f5f62750ab"
      },
      "source": [
        "number = input(\"숫자를 입력하세요: \")\n",
        "print(number)"
      ],
      "execution_count": 18,
      "outputs": [
        {
          "output_type": "stream",
          "text": [
            "숫자를 입력하세요: 3\n",
            "3\n"
          ],
          "name": "stdout"
        }
      ]
    }
  ]
}