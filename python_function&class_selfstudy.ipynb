{
  "nbformat": 4,
  "nbformat_minor": 0,
  "metadata": {
    "colab": {
      "name": "python_function_selfstudy.ipynb",
      "provenance": [],
      "authorship_tag": "ABX9TyNPQNe4S+a5yVozoYsXtQMJ",
      "include_colab_link": true
    },
    "kernelspec": {
      "name": "python3",
      "display_name": "Python 3"
    },
    "language_info": {
      "name": "python"
    }
  },
  "cells": [
    {
      "cell_type": "markdown",
      "metadata": {
        "id": "view-in-github",
        "colab_type": "text"
      },
      "source": [
        "<a href=\"https://colab.research.google.com/github/Narae-210/Python-self-study/blob/main/python_function%26class_selfstudy.ipynb\" target=\"_parent\"><img src=\"https://colab.research.google.com/assets/colab-badge.svg\" alt=\"Open In Colab\"/></a>"
      ]
    },
    {
      "cell_type": "code",
      "metadata": {
        "id": "Hy9iVIEu80tD"
      },
      "source": [
        "# vartest.py\n",
        "#a = 1\n",
        "def vartest(a):\n",
        "    a = a +1\n",
        "\n",
        "vartest(a) #아무것도 안나오고\n",
        "#print(a) #그냥 1이 나옴! 왜냐면 a에서 1이 더해진건 vartest 함수 안에서만 일어난 일이고 return 반환값이 없으니까 함수 밖으로 안나와"
      ],
      "execution_count": null,
      "outputs": []
    },
    {
      "cell_type": "code",
      "metadata": {
        "colab": {
          "base_uri": "https://localhost:8080/"
        },
        "id": "Jt2dEAnUgHgw",
        "outputId": "b873b797-3778-4eaf-e591-d1109833b947"
      },
      "source": [
        "# vartest_error.py\n",
        "def vartest(a):\n",
        "    a = a + 1\n",
        "\n",
        "#vartest(3)\n",
        "print(a) #이 컴터 자식이 a를 까먹지 않으니까 ;; 어쩔수없음^^"
      ],
      "execution_count": null,
      "outputs": [
        {
          "output_type": "stream",
          "text": [
            "1\n"
          ],
          "name": "stdout"
        }
      ]
    },
    {
      "cell_type": "code",
      "metadata": {
        "colab": {
          "base_uri": "https://localhost:8080/",
          "height": 198
        },
        "id": "QKU10ztdgcV2",
        "outputId": "2a0b29a3-3c68-4435-c5d4-ff24058bf30a"
      },
      "source": [
        "def vartest(hello):\n",
        "  hello += 1\n",
        "\n",
        "print(hello) # 여기 error 나지! 왜냐면 hello 는 함수 안에서만 정의돼서 그럼"
      ],
      "execution_count": null,
      "outputs": [
        {
          "output_type": "error",
          "ename": "NameError",
          "evalue": "ignored",
          "traceback": [
            "\u001b[0;31m---------------------------------------------------------------------------\u001b[0m",
            "\u001b[0;31mNameError\u001b[0m                                 Traceback (most recent call last)",
            "\u001b[0;32m<ipython-input-11-55bcb1c8ba14>\u001b[0m in \u001b[0;36m<module>\u001b[0;34m()\u001b[0m\n\u001b[1;32m      2\u001b[0m   \u001b[0mhello\u001b[0m \u001b[0;34m+=\u001b[0m \u001b[0;36m1\u001b[0m\u001b[0;34m\u001b[0m\u001b[0;34m\u001b[0m\u001b[0m\n\u001b[1;32m      3\u001b[0m \u001b[0;34m\u001b[0m\u001b[0m\n\u001b[0;32m----> 4\u001b[0;31m \u001b[0mprint\u001b[0m\u001b[0;34m(\u001b[0m\u001b[0mhello\u001b[0m\u001b[0;34m)\u001b[0m\u001b[0;34m\u001b[0m\u001b[0;34m\u001b[0m\u001b[0m\n\u001b[0m",
            "\u001b[0;31mNameError\u001b[0m: name 'hello' is not defined"
          ]
        }
      ]
    },
    {
      "cell_type": "code",
      "metadata": {
        "colab": {
          "base_uri": "https://localhost:8080/"
        },
        "id": "BQ-Mik96guA0",
        "outputId": "9e8ef31b-70cc-431b-9c90-d69fe73fccc6"
      },
      "source": [
        "na = 1\n",
        "def vartest():\n",
        "  global na\n",
        "  na += 1\n",
        "  return na\n",
        "vartest()"
      ],
      "execution_count": null,
      "outputs": [
        {
          "output_type": "execute_result",
          "data": {
            "text/plain": [
              "2"
            ]
          },
          "metadata": {
            "tags": []
          },
          "execution_count": 17
        }
      ]
    },
    {
      "cell_type": "code",
      "metadata": {
        "colab": {
          "base_uri": "https://localhost:8080/"
        },
        "id": "oGqGne9klf3r",
        "outputId": "ebec6f1b-b6d7-41a9-9a16-d9f5f62750ab"
      },
      "source": [
        "number = input(\"숫자를 입력하세요: \")\n",
        "print(number)"
      ],
      "execution_count": null,
      "outputs": [
        {
          "output_type": "stream",
          "text": [
            "숫자를 입력하세요: 3\n",
            "3\n"
          ],
          "name": "stdout"
        }
      ]
    },
    {
      "cell_type": "markdown",
      "metadata": {
        "id": "xZhsXydgEh-0"
      },
      "source": [
        "### **연습문제!!**"
      ]
    },
    {
      "cell_type": "code",
      "metadata": {
        "id": "WkjRqn1DElM3"
      },
      "source": [
        "#주어진 자연수가 홀수인지 짝수인지 판별해 주는 함수(is_odd)를 작성해 보자.\n",
        "\n",
        "def is_odd (a):\n",
        "  if a % 2 == 0:\n",
        "    return \"짝수\"\n",
        "  else:\n",
        "    return \"홀수\""
      ],
      "execution_count": 1,
      "outputs": []
    },
    {
      "cell_type": "code",
      "metadata": {
        "id": "zqaqdwZYFOX8",
        "outputId": "6ea889a9-ba32-4e07-e90f-9e1fb0041699",
        "colab": {
          "base_uri": "https://localhost:8080/",
          "height": 34
        }
      },
      "source": [
        "is_odd(1)"
      ],
      "execution_count": 3,
      "outputs": [
        {
          "output_type": "execute_result",
          "data": {
            "application/vnd.google.colaboratory.intrinsic+json": {
              "type": "string"
            },
            "text/plain": [
              "'홀수'"
            ]
          },
          "metadata": {
            "tags": []
          },
          "execution_count": 3
        }
      ]
    },
    {
      "cell_type": "code",
      "metadata": {
        "id": "-zqlAZzQErlv"
      },
      "source": [
        "#입력으로 들어오는 모든 수의 평균 값을 계산해 주는 함수를 작성해 보자. (단 입력으로 들어오는 수의 개수는 정해져 있지 않다.)\n",
        "\n",
        "def everymean (*args):\n",
        "  sum = 0\n",
        "  for i in args:\n",
        "    sum += i\n",
        "  return sum/len(args)"
      ],
      "execution_count": 7,
      "outputs": []
    },
    {
      "cell_type": "code",
      "metadata": {
        "id": "ShJpcpImFRBO",
        "outputId": "4d607a87-1f47-4404-e4b4-92aca16cc07f",
        "colab": {
          "base_uri": "https://localhost:8080/"
        }
      },
      "source": [
        "everymean(1,2,3,4,5)"
      ],
      "execution_count": 9,
      "outputs": [
        {
          "output_type": "execute_result",
          "data": {
            "text/plain": [
              "3.0"
            ]
          },
          "metadata": {
            "tags": []
          },
          "execution_count": 9
        }
      ]
    },
    {
      "cell_type": "code",
      "metadata": {
        "id": "z-fS1rCdF0ZJ",
        "outputId": "3c799456-fd7a-48be-d0cd-4c72f4591839",
        "colab": {
          "base_uri": "https://localhost:8080/"
        }
      },
      "source": [
        "#다음은 두 개의 숫자를 입력받아 더하여 돌려주는 프로그램이다.\n",
        "\n",
        "#def twosum (a,b):\n",
        "a = input(\"첫 번째 숫자를 입력하세요: \")\n",
        "b = input(\"두 번째 숫자를 입력하세요: \")\n",
        "print( int(a) + int(b) )"
      ],
      "execution_count": 14,
      "outputs": [
        {
          "output_type": "stream",
          "text": [
            "첫 번째 숫자를 입력하세요: 1\n",
            "두 번째 숫자를 입력하세요: 2\n",
            "3\n"
          ],
          "name": "stdout"
        }
      ]
    },
    {
      "cell_type": "markdown",
      "metadata": {
        "id": "5AsTYLsfKy-e"
      },
      "source": [
        "### **CLASS!!!!!!!**"
      ]
    },
    {
      "cell_type": "code",
      "metadata": {
        "id": "igCBK52jK2sT"
      },
      "source": [
        "class FourCal:\n",
        "  def __init__ (self, first, second):\n",
        "    self.first = first\n",
        "    self.second = second\n",
        "  def add(self):\n",
        "    result = self.first + self.second\n",
        "    return result"
      ],
      "execution_count": 31,
      "outputs": []
    },
    {
      "cell_type": "code",
      "metadata": {
        "id": "Z1WSnvs7Lbm6"
      },
      "source": [
        "a = FourCal(3,2)\n",
        "#a.setdata(3,2)"
      ],
      "execution_count": 32,
      "outputs": []
    },
    {
      "cell_type": "code",
      "metadata": {
        "id": "bjh3y2ohLiN3",
        "outputId": "782e1383-f51c-4715-903a-173ea3eea052",
        "colab": {
          "base_uri": "https://localhost:8080/"
        }
      },
      "source": [
        "print(a.first)"
      ],
      "execution_count": 28,
      "outputs": [
        {
          "output_type": "stream",
          "text": [
            "3\n"
          ],
          "name": "stdout"
        }
      ]
    },
    {
      "cell_type": "code",
      "metadata": {
        "id": "TEeWcMX3MHTE",
        "outputId": "4447b1df-6fa4-4da1-bb05-d07e13f4b371",
        "colab": {
          "base_uri": "https://localhost:8080/"
        }
      },
      "source": [
        "print(a.add())"
      ],
      "execution_count": 29,
      "outputs": [
        {
          "output_type": "stream",
          "text": [
            "5\n"
          ],
          "name": "stdout"
        }
      ]
    }
  ]
}